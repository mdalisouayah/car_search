{
 "cells": [
  {
   "cell_type": "code",
   "execution_count": 1,
   "metadata": {},
   "outputs": [],
   "source": [
    "# blog post tutorial followed: \n",
    "# https://towardsdatascience.com/web-scraping-craigslist-a-complete-tutorial-c41cea4f4981"
   ]
  },
  {
   "cell_type": "code",
   "execution_count": 2,
   "metadata": {},
   "outputs": [
    {
     "name": "stdout",
     "output_type": "stream",
     "text": [
      "<class 'bs4.element.ResultSet'>\n",
      "51\n"
     ]
    }
   ],
   "source": [
    "#import get to call a get request on the site\n",
    "from requests import get\n",
    "\n",
    "#get the first page of the boston car prices\n",
    "#get only clean titles, with pictures, for Honda Civic\n",
    "\n",
    "response = get('https://boston.craigslist.org/search/gbs/cta?hasPic=1&max_price=15000&auto_make_model=honda+civic&min_auto_year=2012&auto_paint=2&auto_paint=4&auto_paint=8&auto_title_status=1&auto_transmission=2') \n",
    "\n",
    "from bs4 import BeautifulSoup\n",
    "html_soup = BeautifulSoup(response.text, 'html.parser') # Me: in class we use XLML\n",
    "\n",
    "#get the macro-container for the housing posts\n",
    "posts = html_soup.find_all('li', class_= 'result-row')\n",
    "print(type(posts)) #to double check that I got a ResultSet\n",
    "print(len(posts)) #to double check I got 120 (elements/page)"
   ]
  },
  {
   "cell_type": "code",
   "execution_count": 3,
   "metadata": {},
   "outputs": [],
   "source": [
    "# In order to scale this, make sure to work in the following way: \n",
    "# grab the first post and all the variables you want from it, \n",
    "# make sure you know how to access each of them for one post \n",
    "# before you loop the whole page, and lastly, make sure you \n",
    "# successfully scraped one page before adding the loop \n",
    "# that goes through all pages."
   ]
  },
  {
   "cell_type": "code",
   "execution_count": 4,
   "metadata": {
    "scrolled": true
   },
   "outputs": [
    {
     "data": {
      "text/plain": [
       "<li class=\"result-row\" data-pid=\"7039560108\" data-repost-of=\"7016732935\">\n",
       "<a class=\"result-image gallery\" data-ids=\"1:00H0H_cyPNwERD5O3,1:00i0i_hKbUOeHVqS9,1:00z0z_hylPL9k18Av,1:00202_icS92dU8zai,1:00909_itJxaVEER7h,1:00G0G_ki93Ak3nghD,1:00O0O_41KH1bTyDhm,1:00h0h_gNScth3x6j1,1:00u0u_5OAKgcjICkd,1:00f0f_dGZ8sxkan9O,1:00B0B_lyaXLtnmfT0,1:00505_28sNDYXSP0L,1:00909_5HGLFIJIhgG,1:00H0H_4hMhOzx1EkY,1:00f0f_5BPbRedPBtp,1:00707_6k2GkgBAuI3,1:00404_hdPdpB90iwu\" href=\"https://boston.craigslist.org/gbs/ctd/d/new-town-2019-honda-civic-lx-8500-miles/7039560108.html\">\n",
       "<span class=\"result-price\">$14995</span>\n",
       "</a>\n",
       "<p class=\"result-info\">\n",
       "<span class=\"icon icon-star\" role=\"button\">\n",
       "<span class=\"screen-reader-text\">favorite this post</span>\n",
       "</span>\n",
       "<time class=\"result-date\" datetime=\"2019-12-16 13:49\" title=\"Mon 16 Dec 01:49:59 PM\">Dec 16</time>\n",
       "<a class=\"result-title hdrlnk\" data-id=\"7039560108\" href=\"https://boston.craigslist.org/gbs/ctd/d/new-town-2019-honda-civic-lx-8500-miles/7039560108.html\">2019 HONDA CIVIC LX 8500 MILES ONE OWNER FACTORY SERVICED AND WARRANTY</a>\n",
       "<span class=\"result-meta\">\n",
       "<span class=\"result-price\">$14995</span>\n",
       "<span class=\"result-hood\"> (BRIGHTON)</span>\n",
       "<span class=\"result-tags\">\n",
       "<span class=\"pictag\">pic</span>\n",
       "</span>\n",
       "<span class=\"banish icon icon-trash\" role=\"button\">\n",
       "<span class=\"screen-reader-text\">hide this posting</span>\n",
       "</span>\n",
       "<span aria-hidden=\"true\" class=\"unbanish icon icon-trash red\" role=\"button\"></span>\n",
       "<a class=\"restore-link\" href=\"#\">\n",
       "<span class=\"restore-narrow-text\">restore</span>\n",
       "<span class=\"restore-wide-text\">restore this posting</span>\n",
       "</a>\n",
       "</span>\n",
       "</p>\n",
       "</li>"
      ]
     },
     "execution_count": 4,
     "metadata": {},
     "output_type": "execute_result"
    }
   ],
   "source": [
    "post_one = posts[0]\n",
    "post_one"
   ]
  },
  {
   "cell_type": "code",
   "execution_count": 5,
   "metadata": {},
   "outputs": [
    {
     "data": {
      "text/plain": [
       "'$14995'"
      ]
     },
     "execution_count": 5,
     "metadata": {},
     "output_type": "execute_result"
    }
   ],
   "source": [
    "# the price of the post is easy to grab\n",
    "post_one_price = post_one.a.text\n",
    "post_one_price = post_one_price.strip() #removes white spaces before and after a string\n",
    "post_one_price"
   ]
  },
  {
   "cell_type": "code",
   "execution_count": 6,
   "metadata": {},
   "outputs": [
    {
     "data": {
      "text/plain": [
       "('Dec 16', '2019-12-16 13:49')"
      ]
     },
     "execution_count": 6,
     "metadata": {},
     "output_type": "execute_result"
    }
   ],
   "source": [
    "post_one_time = post_one.time.text\n",
    "post_one_datetime = post_one.time['datetime']\n",
    "#post_one_datetime = post_one_datetime['datetime']\n",
    "post_one_time, post_one_datetime"
   ]
  },
  {
   "cell_type": "code",
   "execution_count": 7,
   "metadata": {},
   "outputs": [
    {
     "data": {
      "text/plain": [
       "'https://boston.craigslist.org/gbs/ctd/d/new-town-2019-honda-civic-lx-8500-miles/7039560108.html'"
      ]
     },
     "execution_count": 7,
     "metadata": {},
     "output_type": "execute_result"
    }
   ],
   "source": [
    "post_one_url = post_one.a['href']\n",
    "post_one_url"
   ]
  },
  {
   "cell_type": "code",
   "execution_count": 8,
   "metadata": {},
   "outputs": [
    {
     "data": {
      "text/plain": [
       "'2019 HONDA CIVIC LX 8500 MILES ONE OWNER FACTORY SERVICED AND WARRANTY'"
      ]
     },
     "execution_count": 8,
     "metadata": {},
     "output_type": "execute_result"
    }
   ],
   "source": [
    "post_one_title = post_one.find('a', class_=\"result-title hdrlnk\").text\n",
    "post_one_title"
   ]
  },
  {
   "cell_type": "code",
   "execution_count": 9,
   "metadata": {},
   "outputs": [
    {
     "data": {
      "text/plain": [
       "'BRIGHTON'"
      ]
     },
     "execution_count": 9,
     "metadata": {},
     "output_type": "execute_result"
    }
   ],
   "source": [
    "post_one_hood = post_one.find('span', class_=\"result-hood\").text.strip().lstrip(\"(\").rstrip(\")\")\n",
    "post_one_hood"
   ]
  },
  {
   "cell_type": "code",
   "execution_count": 10,
   "metadata": {},
   "outputs": [
    {
     "data": {
      "text/plain": [
       "24"
      ]
     },
     "execution_count": 10,
     "metadata": {},
     "output_type": "execute_result"
    }
   ],
   "source": [
    "#find the total number of posts to find the limit of the pagination\n",
    "results_num = html_soup.find('div', class_= 'search-legend')\n",
    "results_total = int(results_num.find('span', class_='totalcount').text)\n",
    "results_total"
   ]
  },
  {
   "cell_type": "code",
   "execution_count": 11,
   "metadata": {},
   "outputs": [],
   "source": [
    "#build out the loop\n",
    "#avoid throttling by not sending too many requests one after the other\n",
    "from time import sleep\n",
    "import re\n",
    "from random import randint \n",
    "from warnings import warn\n",
    "from time import time\n",
    "from IPython.core.display import clear_output\n",
    "import numpy as np"
   ]
  },
  {
   "cell_type": "code",
   "execution_count": 12,
   "metadata": {},
   "outputs": [],
   "source": [
    "#each page has 119 posts so each new page is defined as follows: s=120, \n",
    "#s=240, s=360, and so on. So we need to step in size 120 in the np.arange function\n",
    "pages = np.arange(0, results_total+1, 120)\n",
    "iterations = 0\n",
    "post_prices = []\n",
    "post_timing = []\n",
    "post_links = []\n",
    "post_title_texts = []\n",
    "post_hoods = []"
   ]
  },
  {
   "cell_type": "code",
   "execution_count": 13,
   "metadata": {
    "scrolled": true
   },
   "outputs": [
    {
     "name": "stdout",
     "output_type": "stream",
     "text": [
      "Page 1 scraped successfully!\n",
      "\n",
      "\n",
      "Scrape complete!\n"
     ]
    }
   ],
   "source": [
    "for page in pages:\n",
    "    \n",
    "    #get request\n",
    "    response = get(\"https://boston.craigslist.org/search/gbs/cta?\" \n",
    "                   + \"s=\" #the parameter for defining the page number \n",
    "                   + str(page) #the page number in the pages array from earlier\n",
    "                   + \"&hasPic=1\"\n",
    "                   + \"&auto_make_model=honda+civic&auto_title_status=1\")\n",
    "\n",
    "    sleep(randint(1,5))\n",
    "     \n",
    "    #throw warning for status codes that are not 200\n",
    "    if response.status_code != 200:\n",
    "        warn('Request: {}; Status code: {}'.format(requests, response.status_code))\n",
    "        \n",
    "    #define the html text\n",
    "    page_html = BeautifulSoup(response.text, 'html.parser')\n",
    "    \n",
    "    #define the posts\n",
    "    posts = html_soup.find_all('li', class_= 'result-row')\n",
    "        \n",
    "    #extract data item-wise\n",
    "    for post in posts:\n",
    "\n",
    "        if post.find('span', class_ = 'result-hood') is not None:\n",
    "\n",
    "            #posting date\n",
    "            #grab the datetime element 0 for date and 1 for time\n",
    "            post_datetime = post.find('time', class_= 'result-date')['datetime']\n",
    "            post_timing.append(post_datetime)\n",
    "\n",
    "            #neighborhoods\n",
    "            post_hood = post.find('span', class_= 'result-hood').text\n",
    "            post_hoods.append(post_hood)\n",
    "\n",
    "            #title text\n",
    "            post_title = post.find('a', class_='result-title hdrlnk')\n",
    "            post_title_text = post_title.text\n",
    "            post_title_texts.append(post_title_text)\n",
    "\n",
    "            #post link\n",
    "            post_link = post_title['href']\n",
    "            post_links.append(post_link)\n",
    "            \n",
    "            #removes the \\n whitespace from each side, removes the currency symbol, and \n",
    "            #turns it into an int\n",
    "            post_price = int(post.a.text.strip().replace(\"$\", \"\")) \n",
    "            post_prices.append(post_price)\n",
    "            \n",
    "#             if post.find('span', class_ = 'housing') is not None:\n",
    "                \n",
    "#                 #if the first element is accidentally square footage\n",
    "#                 if 'ft2' in post.find('span', class_ = 'housing').text.split()[0]:\n",
    "                    \n",
    "#                     #make bedroom nan\n",
    "#                     bedroom_count = np.nan\n",
    "#                     bedroom_counts.append(bedroom_count)\n",
    "                    \n",
    "#                     #make sqft the first element\n",
    "#                     sqft = int(post.find('span', class_ = 'housing').text.split()[0][:-3])\n",
    "#                     sqfts.append(sqft)\n",
    "                    \n",
    "#                 #if the length of the housing details element is more than 2\n",
    "#                 elif len(post.find('span', class_ = 'housing').text.split()) > 2:\n",
    "                    \n",
    "#                     #therefore element 0 will be bedroom count\n",
    "#                     bedroom_count = post.find('span', class_ = 'housing').text.replace(\"br\", \"\").split()[0]\n",
    "#                     bedroom_counts.append(bedroom_count)\n",
    "                    \n",
    "#                     #and sqft will be number 3, so set these here and append\n",
    "#                     sqft = int(post.find('span', class_ = 'housing').text.split()[2][:-3])\n",
    "#                     sqfts.append(sqft)\n",
    "                    \n",
    "#                 #if there is num bedrooms but no sqft\n",
    "#                 elif len(post.find('span', class_ = 'housing').text.split()) == 2:\n",
    "                    \n",
    "#                     #therefore element 0 will be bedroom count\n",
    "#                     bedroom_count = post.find('span', class_ = 'housing').text.replace(\"br\", \"\").split()[0]\n",
    "#                     bedroom_counts.append(bedroom_count)\n",
    "                    \n",
    "#                     #and sqft will be number 3, so set these here and append\n",
    "#                     sqft = np.nan\n",
    "#                     sqfts.append(sqft)                    \n",
    "                \n",
    "#                 else:\n",
    "#                     bedroom_count = np.nan\n",
    "#                     bedroom_counts.append(bedroom_count)\n",
    "                \n",
    "#                     sqft = np.nan\n",
    "#                     sqfts.append(sqft)\n",
    "                \n",
    "#             #if none of those conditions catch, make bedroom nan, this won't be needed    \n",
    "#             else:\n",
    "#                 bedroom_count = np.nan\n",
    "#                 bedroom_counts.append(bedroom_count)\n",
    "                \n",
    "#                 sqft = np.nan\n",
    "#                 sqfts.append(sqft)\n",
    "#             #    bedroom_counts.append(bedroom_count)\n",
    "                \n",
    "#             #    sqft = np.nan\n",
    "#             #    sqfts.append(sqft)\n",
    "                \n",
    "    iterations += 1\n",
    "    print(\"Page \" + str(iterations) + \" scraped successfully!\")\n",
    "\n",
    "print(\"\\n\")\n",
    "\n",
    "print(\"Scrape complete!\")"
   ]
  },
  {
   "cell_type": "code",
   "execution_count": 14,
   "metadata": {},
   "outputs": [
    {
     "name": "stdout",
     "output_type": "stream",
     "text": [
      "<class 'pandas.core.frame.DataFrame'>\n",
      "RangeIndex: 32 entries, 0 to 31\n",
      "Data columns (total 5 columns):\n",
      "posted          32 non-null object\n",
      "neighborhood    32 non-null object\n",
      "post title      32 non-null object\n",
      "URL             32 non-null object\n",
      "price           32 non-null int64\n",
      "dtypes: int64(1), object(4)\n",
      "memory usage: 1.3+ KB\n",
      "None\n"
     ]
    },
    {
     "data": {
      "text/html": [
       "<div>\n",
       "<style scoped>\n",
       "    .dataframe tbody tr th:only-of-type {\n",
       "        vertical-align: middle;\n",
       "    }\n",
       "\n",
       "    .dataframe tbody tr th {\n",
       "        vertical-align: top;\n",
       "    }\n",
       "\n",
       "    .dataframe thead th {\n",
       "        text-align: right;\n",
       "    }\n",
       "</style>\n",
       "<table border=\"1\" class=\"dataframe\">\n",
       "  <thead>\n",
       "    <tr style=\"text-align: right;\">\n",
       "      <th></th>\n",
       "      <th>posted</th>\n",
       "      <th>neighborhood</th>\n",
       "      <th>post title</th>\n",
       "      <th>URL</th>\n",
       "      <th>price</th>\n",
       "    </tr>\n",
       "  </thead>\n",
       "  <tbody>\n",
       "    <tr>\n",
       "      <th>0</th>\n",
       "      <td>2019-12-16 13:49</td>\n",
       "      <td>(BRIGHTON)</td>\n",
       "      <td>2019 HONDA CIVIC LX 8500 MILES ONE OWNER FACTO...</td>\n",
       "      <td>https://boston.craigslist.org/gbs/ctd/d/new-to...</td>\n",
       "      <td>14995</td>\n",
       "    </tr>\n",
       "    <tr>\n",
       "      <th>1</th>\n",
       "      <td>2019-12-16 07:11</td>\n",
       "      <td>($1000down$74week/ToplineImport.com)</td>\n",
       "      <td>2016 Honda Civic EX 2.0 Sedan/40k/You are APPR...</td>\n",
       "      <td>https://boston.craigslist.org/gbs/ctd/d/haverh...</td>\n",
       "      <td>0</td>\n",
       "    </tr>\n",
       "    <tr>\n",
       "      <th>2</th>\n",
       "      <td>2019-12-15 00:50</td>\n",
       "      <td>(NEWTON, MA)</td>\n",
       "      <td>2017 HONDA CIVIC LX SEDAN ONE OWNER 35k MILES ...</td>\n",
       "      <td>https://boston.craigslist.org/gbs/ctd/d/west-n...</td>\n",
       "      <td>13200</td>\n",
       "    </tr>\n",
       "    <tr>\n",
       "      <th>3</th>\n",
       "      <td>2019-12-15 00:44</td>\n",
       "      <td>(NEWTON, MA)</td>\n",
       "      <td>2016 HONDA CIVIC LX SEDAN ONE OWNER 38k MILES ...</td>\n",
       "      <td>https://boston.craigslist.org/gbs/ctd/d/west-n...</td>\n",
       "      <td>12500</td>\n",
       "    </tr>\n",
       "    <tr>\n",
       "      <th>4</th>\n",
       "      <td>2019-12-14 13:27</td>\n",
       "      <td>(BRIGHTON)</td>\n",
       "      <td>2019 HONDA CIVIC LX 8500 MILES ONE OWNER FACTO...</td>\n",
       "      <td>https://boston.craigslist.org/gbs/ctd/d/new-to...</td>\n",
       "      <td>14995</td>\n",
       "    </tr>\n",
       "    <tr>\n",
       "      <th>5</th>\n",
       "      <td>2019-12-13 15:07</td>\n",
       "      <td>(BRIGHTON)</td>\n",
       "      <td>2019 HONDA CIVIC LX 8500 MILES ONE OWNER FACTO...</td>\n",
       "      <td>https://boston.craigslist.org/gbs/ctd/d/new-to...</td>\n",
       "      <td>14995</td>\n",
       "    </tr>\n",
       "    <tr>\n",
       "      <th>6</th>\n",
       "      <td>2019-12-13 07:25</td>\n",
       "      <td>(Everett)</td>\n",
       "      <td>Honda civic EXL</td>\n",
       "      <td>https://boston.craigslist.org/gbs/cto/d/everet...</td>\n",
       "      <td>6000</td>\n",
       "    </tr>\n",
       "    <tr>\n",
       "      <th>7</th>\n",
       "      <td>2019-12-12 11:55</td>\n",
       "      <td>(Attleboro)</td>\n",
       "      <td>2012 Honda Civic LX 4dr Sedan 5A 147244 Miles</td>\n",
       "      <td>https://boston.craigslist.org/gbs/ctd/d/attleb...</td>\n",
       "      <td>6500</td>\n",
       "    </tr>\n",
       "    <tr>\n",
       "      <th>8</th>\n",
       "      <td>2019-12-11 17:35</td>\n",
       "      <td>(Imotobank)</td>\n",
       "      <td>2012 Honda Civic LX 4dr Sedan 5A</td>\n",
       "      <td>https://boston.craigslist.org/gbs/ctd/d/south-...</td>\n",
       "      <td>6975</td>\n",
       "    </tr>\n",
       "    <tr>\n",
       "      <th>9</th>\n",
       "      <td>2019-12-11 17:31</td>\n",
       "      <td>(Imotobank)</td>\n",
       "      <td>2014 Honda Civic EX 2dr Coupe CVT</td>\n",
       "      <td>https://boston.craigslist.org/gbs/ctd/d/south-...</td>\n",
       "      <td>10975</td>\n",
       "    </tr>\n",
       "  </tbody>\n",
       "</table>\n",
       "</div>"
      ],
      "text/plain": [
       "             posted                           neighborhood  \\\n",
       "0  2019-12-16 13:49                             (BRIGHTON)   \n",
       "1  2019-12-16 07:11   ($1000down$74week/ToplineImport.com)   \n",
       "2  2019-12-15 00:50                           (NEWTON, MA)   \n",
       "3  2019-12-15 00:44                           (NEWTON, MA)   \n",
       "4  2019-12-14 13:27                             (BRIGHTON)   \n",
       "5  2019-12-13 15:07                             (BRIGHTON)   \n",
       "6  2019-12-13 07:25                              (Everett)   \n",
       "7  2019-12-12 11:55                            (Attleboro)   \n",
       "8  2019-12-11 17:35                            (Imotobank)   \n",
       "9  2019-12-11 17:31                            (Imotobank)   \n",
       "\n",
       "                                          post title  \\\n",
       "0  2019 HONDA CIVIC LX 8500 MILES ONE OWNER FACTO...   \n",
       "1  2016 Honda Civic EX 2.0 Sedan/40k/You are APPR...   \n",
       "2  2017 HONDA CIVIC LX SEDAN ONE OWNER 35k MILES ...   \n",
       "3  2016 HONDA CIVIC LX SEDAN ONE OWNER 38k MILES ...   \n",
       "4  2019 HONDA CIVIC LX 8500 MILES ONE OWNER FACTO...   \n",
       "5  2019 HONDA CIVIC LX 8500 MILES ONE OWNER FACTO...   \n",
       "6                                    Honda civic EXL   \n",
       "7      2012 Honda Civic LX 4dr Sedan 5A 147244 Miles   \n",
       "8                   2012 Honda Civic LX 4dr Sedan 5A   \n",
       "9                  2014 Honda Civic EX 2dr Coupe CVT   \n",
       "\n",
       "                                                 URL  price  \n",
       "0  https://boston.craigslist.org/gbs/ctd/d/new-to...  14995  \n",
       "1  https://boston.craigslist.org/gbs/ctd/d/haverh...      0  \n",
       "2  https://boston.craigslist.org/gbs/ctd/d/west-n...  13200  \n",
       "3  https://boston.craigslist.org/gbs/ctd/d/west-n...  12500  \n",
       "4  https://boston.craigslist.org/gbs/ctd/d/new-to...  14995  \n",
       "5  https://boston.craigslist.org/gbs/ctd/d/new-to...  14995  \n",
       "6  https://boston.craigslist.org/gbs/cto/d/everet...   6000  \n",
       "7  https://boston.craigslist.org/gbs/ctd/d/attleb...   6500  \n",
       "8  https://boston.craigslist.org/gbs/ctd/d/south-...   6975  \n",
       "9  https://boston.craigslist.org/gbs/ctd/d/south-...  10975  "
      ]
     },
     "execution_count": 14,
     "metadata": {},
     "output_type": "execute_result"
    }
   ],
   "source": [
    "# The code below creates the dataframe from the lists of values!\n",
    "import pandas as pd\n",
    "\n",
    "cars = pd.DataFrame({'posted': post_timing,\n",
    "                       'neighborhood': post_hoods,\n",
    "                       'post title': post_title_texts,\n",
    "                        'URL': post_links,\n",
    "                       'price': post_prices})\n",
    "print(cars.info())\n",
    "cars.head(10)"
   ]
  },
  {
   "cell_type": "code",
   "execution_count": 15,
   "metadata": {},
   "outputs": [],
   "source": [
    "pd.DataFrame.to_csv(cars,'cars.csv', index=False)"
   ]
  },
  {
   "cell_type": "code",
   "execution_count": null,
   "metadata": {},
   "outputs": [],
   "source": []
  }
 ],
 "metadata": {
  "kernelspec": {
   "display_name": "Python 3",
   "language": "python",
   "name": "python3"
  },
  "language_info": {
   "codemirror_mode": {
    "name": "ipython",
    "version": 3
   },
   "file_extension": ".py",
   "mimetype": "text/x-python",
   "name": "python",
   "nbconvert_exporter": "python",
   "pygments_lexer": "ipython3",
   "version": "3.7.3"
  }
 },
 "nbformat": 4,
 "nbformat_minor": 2
}
