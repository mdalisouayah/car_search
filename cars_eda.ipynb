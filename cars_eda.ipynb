{
 "cells": [
  {
   "cell_type": "code",
   "execution_count": null,
   "metadata": {},
   "outputs": [],
   "source": [
    "import pandas as pd\n",
    "import datetime\n",
    "pd.set_option('display.max_colwidth', -1)\n",
    "import numpy as np"
   ]
  },
  {
   "cell_type": "code",
   "execution_count": null,
   "metadata": {
    "scrolled": true
   },
   "outputs": [],
   "source": [
    "cars = pd.read_csv('cars.csv')"
   ]
  },
  {
   "cell_type": "code",
   "execution_count": null,
   "metadata": {
    "scrolled": true
   },
   "outputs": [],
   "source": [
    "cars.head()"
   ]
  },
  {
   "cell_type": "code",
   "execution_count": null,
   "metadata": {},
   "outputs": [],
   "source": [
    "cars.shape"
   ]
  },
  {
   "cell_type": "code",
   "execution_count": null,
   "metadata": {},
   "outputs": [],
   "source": [
    "# data cleaning: \n",
    "#drop duplicate URLs\n",
    "cars = cars.drop_duplicates(subset='URL')\n",
    "#Let's see how many uniqe posts we really have.\n",
    "len(cars.drop_duplicates(subset='URL'))"
   ]
  },
  {
   "cell_type": "code",
   "execution_count": null,
   "metadata": {},
   "outputs": [],
   "source": [
    "cars.info()"
   ]
  },
  {
   "cell_type": "code",
   "execution_count": null,
   "metadata": {
    "scrolled": false
   },
   "outputs": [],
   "source": [
    "cars.posted = pd.to_datetime(cars['posted'])"
   ]
  },
  {
   "cell_type": "code",
   "execution_count": null,
   "metadata": {},
   "outputs": [],
   "source": [
    "cars.info()"
   ]
  },
  {
   "cell_type": "code",
   "execution_count": null,
   "metadata": {
    "scrolled": true
   },
   "outputs": [],
   "source": [
    "cars['posted'] = cars['posted'].dt.date"
   ]
  },
  {
   "cell_type": "code",
   "execution_count": null,
   "metadata": {},
   "outputs": [],
   "source": [
    "cars.head()"
   ]
  },
  {
   "cell_type": "code",
   "execution_count": null,
   "metadata": {},
   "outputs": [],
   "source": [
    "cars['neighborhood'] = cars['neighborhood'].map(lambda x: x.strip().rstrip(')').lstrip('('))"
   ]
  },
  {
   "cell_type": "code",
   "execution_count": null,
   "metadata": {
    "scrolled": true
   },
   "outputs": [],
   "source": [
    "cars.head()"
   ]
  },
  {
   "cell_type": "code",
   "execution_count": null,
   "metadata": {},
   "outputs": [],
   "source": [
    "# new data frame with split value columns \n",
    "new = cars[\"post title\"].str.split(\" \", n = 1, expand = True) \n",
    "new.head()"
   ]
  },
  {
   "cell_type": "code",
   "execution_count": null,
   "metadata": {},
   "outputs": [],
   "source": [
    "# making separate columns from new data frame \n",
    "cars[\"year\"]= new[0] \n",
    "  \n",
    "# making separate last name column from new data frame \n",
    "cars[\"model\"]= new[1] \n",
    "  \n",
    "# Dropping old columns \n",
    "cars.drop(columns =[\"post title\"], inplace = True) "
   ]
  },
  {
   "cell_type": "code",
   "execution_count": null,
   "metadata": {},
   "outputs": [],
   "source": [
    "new = cars[\"model\"].str.split(\" \", n = 2, expand = True) \n",
    "new.drop(columns =[0,1], inplace = True) \n",
    "cars['model'] = new[2]\n",
    "cars.head()"
   ]
  },
  {
   "cell_type": "code",
   "execution_count": null,
   "metadata": {},
   "outputs": [],
   "source": [
    "cols = cars.columns.tolist()\n",
    "cols\n",
    "\n",
    "cols_re = ['year','price','model','posted','neighborhood','URL']\n",
    "cars = cars[cols_re]"
   ]
  },
  {
   "cell_type": "code",
   "execution_count": null,
   "metadata": {
    "scrolled": true
   },
   "outputs": [],
   "source": [
    "cars.shape"
   ]
  },
  {
   "cell_type": "code",
   "execution_count": null,
   "metadata": {},
   "outputs": [],
   "source": [
    "#import get to call a get request on the site\n",
    "from requests import get\n",
    "\n",
    "#get the first page of the boston car prices\n",
    "#get only clean titles, with pictures, for Honda Civic\n",
    "\n",
    "response = get(cars.URL[29]) \n",
    "\n",
    "from bs4 import BeautifulSoup\n",
    "html_soup = BeautifulSoup(response.text, 'html.parser') # Me: in class we use XLML"
   ]
  },
  {
   "cell_type": "code",
   "execution_count": null,
   "metadata": {
    "scrolled": true
   },
   "outputs": [],
   "source": [
    "html_soup.find_all('span')[25].text[10:]"
   ]
  },
  {
   "cell_type": "code",
   "execution_count": null,
   "metadata": {},
   "outputs": [],
   "source": [
    "html_soup.find_all('span')[27].text[13:]"
   ]
  },
  {
   "cell_type": "code",
   "execution_count": null,
   "metadata": {},
   "outputs": [],
   "source": [
    "#get the macro-container for the housing posts\n",
    "mileage = html_soup.find_all('span')[26].text[10:]\n",
    "print(type(mileage)) #to double check that I got a ResultSet\n",
    "print(len(mileage)) #to double check I got 120 (elements/page)"
   ]
  },
  {
   "cell_type": "code",
   "execution_count": null,
   "metadata": {},
   "outputs": [],
   "source": [
    "range(len(cars.URL))"
   ]
  },
  {
   "cell_type": "code",
   "execution_count": null,
   "metadata": {},
   "outputs": [],
   "source": [
    "#cars.URL[1],cars.URL[2]"
   ]
  },
  {
   "cell_type": "code",
   "execution_count": null,
   "metadata": {},
   "outputs": [],
   "source": [
    "from time import sleep\n",
    "from random import randint "
   ]
  },
  {
   "cell_type": "code",
   "execution_count": null,
   "metadata": {
    "scrolled": true
   },
   "outputs": [],
   "source": [
    "iterations = 0\n",
    "mileage = []\n",
    "mileage_re = []\n",
    "color = []\n",
    "for i in range(len(cars.URL)):\n",
    "    \n",
    "    #get request\n",
    "    response = get(cars.URL[i]) \n",
    "    sleep(randint(1,5))\n",
    "     \n",
    "    #throw warning for status codes that are not 200\n",
    "    if response.status_code != 200:\n",
    "        warn('Request: {}; Status code: {}'.format(requests, response.status_code))\n",
    "        \n",
    "    #define the html text\n",
    "    html_soup = BeautifulSoup(response.text, 'html.parser')\n",
    "    \n",
    "    #define the html_soup.find_all('span')[26].text[10:]\n",
    "    miles = html_soup.find_all('span')[26].text[10:]\n",
    "    mileage.append(miles)\n",
    "    \n",
    "    miles_re = html_soup.find_all('span')[25].text[10:]\n",
    "    mileage_re.append(miles_re)\n",
    "    \n",
    "    paint = html_soup.find_all('span')[27].text[13:]\n",
    "    color.append(paint)\n",
    "    iterations += 1\n",
    "    print(\"car \" + str(iterations) + \" scraped successfully!\")\n",
    "\n",
    "print(\"\\n\")\n",
    "\n",
    "print(\"Scrape complete!\")"
   ]
  },
  {
   "cell_type": "code",
   "execution_count": null,
   "metadata": {},
   "outputs": [],
   "source": [
    "cars['mileage'] = mileage\n",
    "cars['mileage_re'] = mileage_re\n",
    "cars['color'] = color"
   ]
  },
  {
   "cell_type": "code",
   "execution_count": null,
   "metadata": {
    "scrolled": true
   },
   "outputs": [],
   "source": [
    "cars.columns"
   ]
  },
  {
   "cell_type": "code",
   "execution_count": null,
   "metadata": {},
   "outputs": [],
   "source": [
    "cars.drop(['model', 'posted', 'neighborhood'], axis = 1, inplace=True)\n",
    "cars.head()"
   ]
  },
  {
   "cell_type": "code",
   "execution_count": null,
   "metadata": {
    "scrolled": true
   },
   "outputs": [],
   "source": [
    "cars_ = cars.drop('URL', axis=1)\n",
    "cars_"
   ]
  },
  {
   "cell_type": "code",
   "execution_count": null,
   "metadata": {},
   "outputs": [],
   "source": [
    "# data cleaning: \n",
    "#drop duplicate URLs\n",
    "cars = cars.drop_duplicates(subset=['year','price','mileage','color'])\n",
    "# #Let's see how many uniqe posts we really have.\n",
    "len(cars.drop_duplicates(subset=['year','price','mileage','color']))"
   ]
  },
  {
   "cell_type": "code",
   "execution_count": null,
   "metadata": {},
   "outputs": [],
   "source": [
    "cars.head()"
   ]
  },
  {
   "cell_type": "code",
   "execution_count": null,
   "metadata": {
    "scrolled": true
   },
   "outputs": [],
   "source": [
    "cars.sort_values(by='price', ascending=False)"
   ]
  },
  {
   "cell_type": "code",
   "execution_count": null,
   "metadata": {},
   "outputs": [],
   "source": [
    "#pd.DataFrame.to_csv(cars,'cars_restore.csv', index=False)"
   ]
  },
  {
   "cell_type": "code",
   "execution_count": 1,
   "metadata": {},
   "outputs": [],
   "source": [
    "import pandas as pd\n",
    "import datetime\n",
    "pd.set_option('display.max_colwidth', -1)\n",
    "import numpy as np"
   ]
  },
  {
   "cell_type": "code",
   "execution_count": 2,
   "metadata": {},
   "outputs": [],
   "source": [
    "cars = pd.read_csv('cars_restore.csv')\n",
    "#cars.head()"
   ]
  },
  {
   "cell_type": "code",
   "execution_count": 3,
   "metadata": {},
   "outputs": [],
   "source": [
    "cars.mileage = cars.mileage.map(lambda x: int(x) if x.isnumeric() else 0)"
   ]
  },
  {
   "cell_type": "code",
   "execution_count": 4,
   "metadata": {},
   "outputs": [],
   "source": [
    "cars.mileage_re.fillna('',inplace=True)"
   ]
  },
  {
   "cell_type": "code",
   "execution_count": 5,
   "metadata": {},
   "outputs": [],
   "source": [
    "cars.mileage_re = cars.mileage_re.map(lambda x: int(x) if x.isnumeric() else np.nan)"
   ]
  },
  {
   "cell_type": "code",
   "execution_count": 6,
   "metadata": {},
   "outputs": [],
   "source": [
    "#cars.head()"
   ]
  },
  {
   "cell_type": "code",
   "execution_count": 7,
   "metadata": {
    "scrolled": true
   },
   "outputs": [
    {
     "name": "stderr",
     "output_type": "stream",
     "text": [
      "/anaconda3/envs/myenv/lib/python3.7/site-packages/ipykernel_launcher.py:3: SettingWithCopyWarning: \n",
      "A value is trying to be set on a copy of a slice from a DataFrame\n",
      "\n",
      "See the caveats in the documentation: http://pandas.pydata.org/pandas-docs/stable/indexing.html#indexing-view-versus-copy\n",
      "  This is separate from the ipykernel package so we can avoid doing imports until\n",
      "/anaconda3/envs/myenv/lib/python3.7/site-packages/pandas/core/indexing.py:190: SettingWithCopyWarning: \n",
      "A value is trying to be set on a copy of a slice from a DataFrame\n",
      "\n",
      "See the caveats in the documentation: http://pandas.pydata.org/pandas-docs/stable/indexing.html#indexing-view-versus-copy\n",
      "  self._setitem_with_indexer(indexer, value)\n"
     ]
    }
   ],
   "source": [
    "for i in range(len(cars.mileage)):\n",
    "    if cars.mileage[i] ==0:\n",
    "        cars.mileage[i] = cars.mileage_re[i]"
   ]
  },
  {
   "cell_type": "code",
   "execution_count": 8,
   "metadata": {},
   "outputs": [],
   "source": [
    "cars.drop('mileage_re',axis =1, inplace=True)"
   ]
  },
  {
   "cell_type": "code",
   "execution_count": 9,
   "metadata": {
    "scrolled": true
   },
   "outputs": [],
   "source": [
    "cars.sort_values(by='year', ascending=False);"
   ]
  },
  {
   "cell_type": "code",
   "execution_count": 10,
   "metadata": {},
   "outputs": [
    {
     "data": {
      "text/plain": [
       "['year', 'price', 'URL', 'mileage', 'color']"
      ]
     },
     "execution_count": 10,
     "metadata": {},
     "output_type": "execute_result"
    }
   ],
   "source": [
    "cols = cars.columns.tolist()\n",
    "cols"
   ]
  },
  {
   "cell_type": "code",
   "execution_count": 11,
   "metadata": {},
   "outputs": [],
   "source": [
    "cols_re = ['year', 'price', 'mileage', 'color', 'URL']\n",
    "cars = cars[cols_re]\n",
    "#cars"
   ]
  },
  {
   "cell_type": "code",
   "execution_count": 12,
   "metadata": {},
   "outputs": [],
   "source": [
    "cars.mileage.iloc[[1,4,22]] = [43000, 153112,64746]\n",
    "#combined.iloc[[1,3,15]][\"feature_a\"]"
   ]
  },
  {
   "cell_type": "code",
   "execution_count": 13,
   "metadata": {},
   "outputs": [],
   "source": [
    "cars.year.iloc[[4]] = 2012"
   ]
  },
  {
   "cell_type": "code",
   "execution_count": 14,
   "metadata": {},
   "outputs": [
    {
     "data": {
      "text/html": [
       "<div>\n",
       "<style scoped>\n",
       "    .dataframe tbody tr th:only-of-type {\n",
       "        vertical-align: middle;\n",
       "    }\n",
       "\n",
       "    .dataframe tbody tr th {\n",
       "        vertical-align: top;\n",
       "    }\n",
       "\n",
       "    .dataframe thead th {\n",
       "        text-align: right;\n",
       "    }\n",
       "</style>\n",
       "<table border=\"1\" class=\"dataframe\">\n",
       "  <thead>\n",
       "    <tr style=\"text-align: right;\">\n",
       "      <th></th>\n",
       "      <th>year</th>\n",
       "      <th>price</th>\n",
       "      <th>mileage</th>\n",
       "      <th>color</th>\n",
       "      <th>URL</th>\n",
       "    </tr>\n",
       "  </thead>\n",
       "  <tbody>\n",
       "    <tr>\n",
       "      <th>0</th>\n",
       "      <td>2019</td>\n",
       "      <td>14995</td>\n",
       "      <td>8500.0</td>\n",
       "      <td>blue</td>\n",
       "      <td>https://boston.craigslist.org/gbs/ctd/d/new-town-2019-honda-civic-lx-8500-miles/7039560108.html</td>\n",
       "    </tr>\n",
       "    <tr>\n",
       "      <th>2</th>\n",
       "      <td>2017</td>\n",
       "      <td>13200</td>\n",
       "      <td>35457.0</td>\n",
       "      <td>grey</td>\n",
       "      <td>https://boston.craigslist.org/gbs/ctd/d/west-newton-2017-honda-civic-lx-sedan/7038754991.html</td>\n",
       "    </tr>\n",
       "    <tr>\n",
       "      <th>3</th>\n",
       "      <td>2016</td>\n",
       "      <td>12500</td>\n",
       "      <td>38417.0</td>\n",
       "      <td>grey</td>\n",
       "      <td>https://boston.craigslist.org/gbs/ctd/d/west-newton-2016-honda-civic-lx-sedan/7038754066.html</td>\n",
       "    </tr>\n",
       "    <tr>\n",
       "      <th>4</th>\n",
       "      <td>2012</td>\n",
       "      <td>6000</td>\n",
       "      <td>153112.0</td>\n",
       "      <td>NaN</td>\n",
       "      <td>https://boston.craigslist.org/gbs/cto/d/everett-honda-civic-exl/7037586597.html</td>\n",
       "    </tr>\n",
       "    <tr>\n",
       "      <th>5</th>\n",
       "      <td>2012</td>\n",
       "      <td>6500</td>\n",
       "      <td>147244.0</td>\n",
       "      <td>e</td>\n",
       "      <td>https://boston.craigslist.org/gbs/ctd/d/attleboro-2012-honda-civic-lx-4dr-sedan/7037116420.html</td>\n",
       "    </tr>\n",
       "  </tbody>\n",
       "</table>\n",
       "</div>"
      ],
      "text/plain": [
       "   year  price   mileage color  \\\n",
       "0  2019  14995  8500.0    blue   \n",
       "2  2017  13200  35457.0   grey   \n",
       "3  2016  12500  38417.0   grey   \n",
       "4  2012  6000   153112.0  NaN    \n",
       "5  2012  6500   147244.0  e      \n",
       "\n",
       "                                                                                               URL  \n",
       "0  https://boston.craigslist.org/gbs/ctd/d/new-town-2019-honda-civic-lx-8500-miles/7039560108.html  \n",
       "2  https://boston.craigslist.org/gbs/ctd/d/west-newton-2017-honda-civic-lx-sedan/7038754991.html    \n",
       "3  https://boston.craigslist.org/gbs/ctd/d/west-newton-2016-honda-civic-lx-sedan/7038754066.html    \n",
       "4  https://boston.craigslist.org/gbs/cto/d/everett-honda-civic-exl/7037586597.html                  \n",
       "5  https://boston.craigslist.org/gbs/ctd/d/attleboro-2012-honda-civic-lx-4dr-sedan/7037116420.html  "
      ]
     },
     "execution_count": 14,
     "metadata": {},
     "output_type": "execute_result"
    }
   ],
   "source": [
    "cars.drop(cars[cars['price'] <=1000].index, inplace = True) \n",
    "cars.head()"
   ]
  },
  {
   "cell_type": "code",
   "execution_count": 15,
   "metadata": {},
   "outputs": [
    {
     "data": {
      "text/html": [
       "<div>\n",
       "<style scoped>\n",
       "    .dataframe tbody tr th:only-of-type {\n",
       "        vertical-align: middle;\n",
       "    }\n",
       "\n",
       "    .dataframe tbody tr th {\n",
       "        vertical-align: top;\n",
       "    }\n",
       "\n",
       "    .dataframe thead th {\n",
       "        text-align: right;\n",
       "    }\n",
       "</style>\n",
       "<table border=\"1\" class=\"dataframe\">\n",
       "  <thead>\n",
       "    <tr style=\"text-align: right;\">\n",
       "      <th></th>\n",
       "      <th>year</th>\n",
       "      <th>price</th>\n",
       "      <th>mileage</th>\n",
       "      <th>color</th>\n",
       "      <th>URL</th>\n",
       "    </tr>\n",
       "  </thead>\n",
       "  <tbody>\n",
       "    <tr>\n",
       "      <th>0</th>\n",
       "      <td>2019</td>\n",
       "      <td>14995</td>\n",
       "      <td>8500.0</td>\n",
       "      <td>blue</td>\n",
       "      <td>https://boston.craigslist.org/gbs/ctd/d/new-town-2019-honda-civic-lx-8500-miles/7039560108.html</td>\n",
       "    </tr>\n",
       "    <tr>\n",
       "      <th>2</th>\n",
       "      <td>2017</td>\n",
       "      <td>13200</td>\n",
       "      <td>35457.0</td>\n",
       "      <td>grey</td>\n",
       "      <td>https://boston.craigslist.org/gbs/ctd/d/west-newton-2017-honda-civic-lx-sedan/7038754991.html</td>\n",
       "    </tr>\n",
       "    <tr>\n",
       "      <th>3</th>\n",
       "      <td>2016</td>\n",
       "      <td>12500</td>\n",
       "      <td>38417.0</td>\n",
       "      <td>grey</td>\n",
       "      <td>https://boston.craigslist.org/gbs/ctd/d/west-newton-2016-honda-civic-lx-sedan/7038754066.html</td>\n",
       "    </tr>\n",
       "    <tr>\n",
       "      <th>4</th>\n",
       "      <td>2012</td>\n",
       "      <td>6000</td>\n",
       "      <td>153112.0</td>\n",
       "      <td>NaN</td>\n",
       "      <td>https://boston.craigslist.org/gbs/cto/d/everett-honda-civic-exl/7037586597.html</td>\n",
       "    </tr>\n",
       "    <tr>\n",
       "      <th>5</th>\n",
       "      <td>2012</td>\n",
       "      <td>6500</td>\n",
       "      <td>147244.0</td>\n",
       "      <td>e</td>\n",
       "      <td>https://boston.craigslist.org/gbs/ctd/d/attleboro-2012-honda-civic-lx-4dr-sedan/7037116420.html</td>\n",
       "    </tr>\n",
       "    <tr>\n",
       "      <th>6</th>\n",
       "      <td>2012</td>\n",
       "      <td>6975</td>\n",
       "      <td>95324.0</td>\n",
       "      <td>clean</td>\n",
       "      <td>https://boston.craigslist.org/gbs/ctd/d/south-walpole-2012-honda-civic-lx-4dr/7036750273.html</td>\n",
       "    </tr>\n",
       "    <tr>\n",
       "      <th>7</th>\n",
       "      <td>2014</td>\n",
       "      <td>10975</td>\n",
       "      <td>70900.0</td>\n",
       "      <td>clean</td>\n",
       "      <td>https://boston.craigslist.org/gbs/ctd/d/south-walpole-2014-honda-civic-ex-2dr/7036747832.html</td>\n",
       "    </tr>\n",
       "    <tr>\n",
       "      <th>8</th>\n",
       "      <td>2017</td>\n",
       "      <td>12995</td>\n",
       "      <td>17600.0</td>\n",
       "      <td>grey</td>\n",
       "      <td>https://boston.craigslist.org/gbs/ctd/d/new-town-2017-honda-civic-lx-miles-auto/7033556783.html</td>\n",
       "    </tr>\n",
       "    <tr>\n",
       "      <th>9</th>\n",
       "      <td>2016</td>\n",
       "      <td>13995</td>\n",
       "      <td>29473.0</td>\n",
       "      <td>silver</td>\n",
       "      <td>https://boston.craigslist.org/gbs/ctd/d/malden-2016-honda-civic-lx/7033465754.html</td>\n",
       "    </tr>\n",
       "    <tr>\n",
       "      <th>10</th>\n",
       "      <td>2015</td>\n",
       "      <td>14900</td>\n",
       "      <td>33163.0</td>\n",
       "      <td>silver</td>\n",
       "      <td>https://boston.craigslist.org/gbs/ctd/d/auburndale-2015-honda-civic-lx-coupe-2d/7031336146.html</td>\n",
       "    </tr>\n",
       "    <tr>\n",
       "      <th>11</th>\n",
       "      <td>2012</td>\n",
       "      <td>7495</td>\n",
       "      <td>89175.0</td>\n",
       "      <td>clean</td>\n",
       "      <td>https://boston.craigslist.org/gbs/ctd/d/framingham-2012-honda-civic-lx/7027713801.html</td>\n",
       "    </tr>\n",
       "    <tr>\n",
       "      <th>12</th>\n",
       "      <td>2012</td>\n",
       "      <td>7995</td>\n",
       "      <td>94937.0</td>\n",
       "      <td>clean</td>\n",
       "      <td>https://boston.craigslist.org/gbs/ctd/d/framingham-2012-honda-civic-ex/7027619792.html</td>\n",
       "    </tr>\n",
       "    <tr>\n",
       "      <th>13</th>\n",
       "      <td>2012</td>\n",
       "      <td>6850</td>\n",
       "      <td>141000.0</td>\n",
       "      <td>blue</td>\n",
       "      <td>https://boston.craigslist.org/gbs/ctd/d/londonderry-2012-honda-civic-sdn-4dr/7027303210.html</td>\n",
       "    </tr>\n",
       "    <tr>\n",
       "      <th>14</th>\n",
       "      <td>2015</td>\n",
       "      <td>11500</td>\n",
       "      <td>49073.0</td>\n",
       "      <td>NaN</td>\n",
       "      <td>https://boston.craigslist.org/gbs/cto/d/watertown-2015-honda-civic/7024072889.html</td>\n",
       "    </tr>\n",
       "    <tr>\n",
       "      <th>15</th>\n",
       "      <td>2016</td>\n",
       "      <td>14495</td>\n",
       "      <td>29473.0</td>\n",
       "      <td>silver</td>\n",
       "      <td>https://boston.craigslist.org/gbs/ctd/d/malden-2016-honda-civic-lx/7023790102.html</td>\n",
       "    </tr>\n",
       "    <tr>\n",
       "      <th>16</th>\n",
       "      <td>2016</td>\n",
       "      <td>13999</td>\n",
       "      <td>45428.0</td>\n",
       "      <td>silver</td>\n",
       "      <td>https://boston.craigslist.org/gbs/ctd/d/west-newton-2016-honda-civic-ex-sedan/7023177740.html</td>\n",
       "    </tr>\n",
       "    <tr>\n",
       "      <th>18</th>\n",
       "      <td>2016</td>\n",
       "      <td>11465</td>\n",
       "      <td>88629.0</td>\n",
       "      <td>grey</td>\n",
       "      <td>https://boston.craigslist.org/nos/ctd/d/salem-2016-honda-civic-ex-sedan-cvt/7037361384.html</td>\n",
       "    </tr>\n",
       "    <tr>\n",
       "      <th>19</th>\n",
       "      <td>2017</td>\n",
       "      <td>13765</td>\n",
       "      <td>30598.0</td>\n",
       "      <td>grey</td>\n",
       "      <td>https://boston.craigslist.org/nos/ctd/d/salem-2017-honda-civic-lx-sedan-cvt/7037361408.html</td>\n",
       "    </tr>\n",
       "    <tr>\n",
       "      <th>21</th>\n",
       "      <td>2012</td>\n",
       "      <td>5495</td>\n",
       "      <td>173159.0</td>\n",
       "      <td>silver</td>\n",
       "      <td>https://boston.craigslist.org/nwb/ctd/d/methuen-2012-honda-civic-lx-sedan-5/7035931132.html</td>\n",
       "    </tr>\n",
       "    <tr>\n",
       "      <th>22</th>\n",
       "      <td>2012</td>\n",
       "      <td>9995</td>\n",
       "      <td>64746.0</td>\n",
       "      <td>automatic</td>\n",
       "      <td>https://boston.craigslist.org/sob/ctd/d/taunton-2012-honda-civic-ex-w-navi-4dr/7034118474.html</td>\n",
       "    </tr>\n",
       "    <tr>\n",
       "      <th>23</th>\n",
       "      <td>2014</td>\n",
       "      <td>13485</td>\n",
       "      <td>41588.0</td>\n",
       "      <td>e</td>\n",
       "      <td>https://boston.craigslist.org/nwb/ctd/d/dracut-2014-honda-civic-coupe-2dr-cvt-ex/7033021319.html</td>\n",
       "    </tr>\n",
       "    <tr>\n",
       "      <th>24</th>\n",
       "      <td>2012</td>\n",
       "      <td>6995</td>\n",
       "      <td>104067.0</td>\n",
       "      <td>clean</td>\n",
       "      <td>https://boston.craigslist.org/bmw/ctd/d/worcester-2012-honda-civic-hybrid/7029353457.html</td>\n",
       "    </tr>\n",
       "  </tbody>\n",
       "</table>\n",
       "</div>"
      ],
      "text/plain": [
       "    year  price   mileage       color  \\\n",
       "0   2019  14995  8500.0    blue         \n",
       "2   2017  13200  35457.0   grey         \n",
       "3   2016  12500  38417.0   grey         \n",
       "4   2012  6000   153112.0  NaN          \n",
       "5   2012  6500   147244.0  e            \n",
       "6   2012  6975   95324.0    clean       \n",
       "7   2014  10975  70900.0    clean       \n",
       "8   2017  12995  17600.0   grey         \n",
       "9   2016  13995  29473.0   silver       \n",
       "10  2015  14900  33163.0   silver       \n",
       "11  2012  7495   89175.0    clean       \n",
       "12  2012  7995   94937.0    clean       \n",
       "13  2012  6850   141000.0  blue         \n",
       "14  2015  11500  49073.0   NaN          \n",
       "15  2016  14495  29473.0   silver       \n",
       "16  2016  13999  45428.0   silver       \n",
       "18  2016  11465  88629.0   grey         \n",
       "19  2017  13765  30598.0   grey         \n",
       "21  2012  5495   173159.0  silver       \n",
       "22  2012  9995   64746.0    automatic   \n",
       "23  2014  13485  41588.0   e            \n",
       "24  2012  6995   104067.0   clean       \n",
       "\n",
       "                                                                                                 URL  \n",
       "0   https://boston.craigslist.org/gbs/ctd/d/new-town-2019-honda-civic-lx-8500-miles/7039560108.html   \n",
       "2   https://boston.craigslist.org/gbs/ctd/d/west-newton-2017-honda-civic-lx-sedan/7038754991.html     \n",
       "3   https://boston.craigslist.org/gbs/ctd/d/west-newton-2016-honda-civic-lx-sedan/7038754066.html     \n",
       "4   https://boston.craigslist.org/gbs/cto/d/everett-honda-civic-exl/7037586597.html                   \n",
       "5   https://boston.craigslist.org/gbs/ctd/d/attleboro-2012-honda-civic-lx-4dr-sedan/7037116420.html   \n",
       "6   https://boston.craigslist.org/gbs/ctd/d/south-walpole-2012-honda-civic-lx-4dr/7036750273.html     \n",
       "7   https://boston.craigslist.org/gbs/ctd/d/south-walpole-2014-honda-civic-ex-2dr/7036747832.html     \n",
       "8   https://boston.craigslist.org/gbs/ctd/d/new-town-2017-honda-civic-lx-miles-auto/7033556783.html   \n",
       "9   https://boston.craigslist.org/gbs/ctd/d/malden-2016-honda-civic-lx/7033465754.html                \n",
       "10  https://boston.craigslist.org/gbs/ctd/d/auburndale-2015-honda-civic-lx-coupe-2d/7031336146.html   \n",
       "11  https://boston.craigslist.org/gbs/ctd/d/framingham-2012-honda-civic-lx/7027713801.html            \n",
       "12  https://boston.craigslist.org/gbs/ctd/d/framingham-2012-honda-civic-ex/7027619792.html            \n",
       "13  https://boston.craigslist.org/gbs/ctd/d/londonderry-2012-honda-civic-sdn-4dr/7027303210.html      \n",
       "14  https://boston.craigslist.org/gbs/cto/d/watertown-2015-honda-civic/7024072889.html                \n",
       "15  https://boston.craigslist.org/gbs/ctd/d/malden-2016-honda-civic-lx/7023790102.html                \n",
       "16  https://boston.craigslist.org/gbs/ctd/d/west-newton-2016-honda-civic-ex-sedan/7023177740.html     \n",
       "18  https://boston.craigslist.org/nos/ctd/d/salem-2016-honda-civic-ex-sedan-cvt/7037361384.html       \n",
       "19  https://boston.craigslist.org/nos/ctd/d/salem-2017-honda-civic-lx-sedan-cvt/7037361408.html       \n",
       "21  https://boston.craigslist.org/nwb/ctd/d/methuen-2012-honda-civic-lx-sedan-5/7035931132.html       \n",
       "22  https://boston.craigslist.org/sob/ctd/d/taunton-2012-honda-civic-ex-w-navi-4dr/7034118474.html    \n",
       "23  https://boston.craigslist.org/nwb/ctd/d/dracut-2014-honda-civic-coupe-2dr-cvt-ex/7033021319.html  \n",
       "24  https://boston.craigslist.org/bmw/ctd/d/worcester-2012-honda-civic-hybrid/7029353457.html         "
      ]
     },
     "execution_count": 15,
     "metadata": {},
     "output_type": "execute_result"
    }
   ],
   "source": [
    "cars"
   ]
  },
  {
   "cell_type": "code",
   "execution_count": 16,
   "metadata": {},
   "outputs": [],
   "source": [
    "colors = ['blue','grey','silver']\n",
    "cars.loc[~cars[\"color\"].isin(colors), \"color\"] = \"nm\""
   ]
  },
  {
   "cell_type": "code",
   "execution_count": 17,
   "metadata": {},
   "outputs": [
    {
     "data": {
      "text/html": [
       "<div>\n",
       "<style scoped>\n",
       "    .dataframe tbody tr th:only-of-type {\n",
       "        vertical-align: middle;\n",
       "    }\n",
       "\n",
       "    .dataframe tbody tr th {\n",
       "        vertical-align: top;\n",
       "    }\n",
       "\n",
       "    .dataframe thead th {\n",
       "        text-align: right;\n",
       "    }\n",
       "</style>\n",
       "<table border=\"1\" class=\"dataframe\">\n",
       "  <thead>\n",
       "    <tr style=\"text-align: right;\">\n",
       "      <th></th>\n",
       "      <th>year</th>\n",
       "      <th>price</th>\n",
       "      <th>mileage</th>\n",
       "      <th>color</th>\n",
       "      <th>URL</th>\n",
       "    </tr>\n",
       "  </thead>\n",
       "  <tbody>\n",
       "    <tr>\n",
       "      <th>0</th>\n",
       "      <td>2019</td>\n",
       "      <td>14995</td>\n",
       "      <td>8500.0</td>\n",
       "      <td>blue</td>\n",
       "      <td>https://boston.craigslist.org/gbs/ctd/d/new-town-2019-honda-civic-lx-8500-miles/7039560108.html</td>\n",
       "    </tr>\n",
       "    <tr>\n",
       "      <th>2</th>\n",
       "      <td>2017</td>\n",
       "      <td>13200</td>\n",
       "      <td>35457.0</td>\n",
       "      <td>grey</td>\n",
       "      <td>https://boston.craigslist.org/gbs/ctd/d/west-newton-2017-honda-civic-lx-sedan/7038754991.html</td>\n",
       "    </tr>\n",
       "    <tr>\n",
       "      <th>3</th>\n",
       "      <td>2016</td>\n",
       "      <td>12500</td>\n",
       "      <td>38417.0</td>\n",
       "      <td>grey</td>\n",
       "      <td>https://boston.craigslist.org/gbs/ctd/d/west-newton-2016-honda-civic-lx-sedan/7038754066.html</td>\n",
       "    </tr>\n",
       "    <tr>\n",
       "      <th>4</th>\n",
       "      <td>2012</td>\n",
       "      <td>6000</td>\n",
       "      <td>153112.0</td>\n",
       "      <td>nm</td>\n",
       "      <td>https://boston.craigslist.org/gbs/cto/d/everett-honda-civic-exl/7037586597.html</td>\n",
       "    </tr>\n",
       "    <tr>\n",
       "      <th>5</th>\n",
       "      <td>2012</td>\n",
       "      <td>6500</td>\n",
       "      <td>147244.0</td>\n",
       "      <td>nm</td>\n",
       "      <td>https://boston.craigslist.org/gbs/ctd/d/attleboro-2012-honda-civic-lx-4dr-sedan/7037116420.html</td>\n",
       "    </tr>\n",
       "    <tr>\n",
       "      <th>6</th>\n",
       "      <td>2012</td>\n",
       "      <td>6975</td>\n",
       "      <td>95324.0</td>\n",
       "      <td>nm</td>\n",
       "      <td>https://boston.craigslist.org/gbs/ctd/d/south-walpole-2012-honda-civic-lx-4dr/7036750273.html</td>\n",
       "    </tr>\n",
       "    <tr>\n",
       "      <th>7</th>\n",
       "      <td>2014</td>\n",
       "      <td>10975</td>\n",
       "      <td>70900.0</td>\n",
       "      <td>nm</td>\n",
       "      <td>https://boston.craigslist.org/gbs/ctd/d/south-walpole-2014-honda-civic-ex-2dr/7036747832.html</td>\n",
       "    </tr>\n",
       "    <tr>\n",
       "      <th>8</th>\n",
       "      <td>2017</td>\n",
       "      <td>12995</td>\n",
       "      <td>17600.0</td>\n",
       "      <td>grey</td>\n",
       "      <td>https://boston.craigslist.org/gbs/ctd/d/new-town-2017-honda-civic-lx-miles-auto/7033556783.html</td>\n",
       "    </tr>\n",
       "    <tr>\n",
       "      <th>9</th>\n",
       "      <td>2016</td>\n",
       "      <td>13995</td>\n",
       "      <td>29473.0</td>\n",
       "      <td>silver</td>\n",
       "      <td>https://boston.craigslist.org/gbs/ctd/d/malden-2016-honda-civic-lx/7033465754.html</td>\n",
       "    </tr>\n",
       "    <tr>\n",
       "      <th>10</th>\n",
       "      <td>2015</td>\n",
       "      <td>14900</td>\n",
       "      <td>33163.0</td>\n",
       "      <td>silver</td>\n",
       "      <td>https://boston.craigslist.org/gbs/ctd/d/auburndale-2015-honda-civic-lx-coupe-2d/7031336146.html</td>\n",
       "    </tr>\n",
       "    <tr>\n",
       "      <th>11</th>\n",
       "      <td>2012</td>\n",
       "      <td>7495</td>\n",
       "      <td>89175.0</td>\n",
       "      <td>nm</td>\n",
       "      <td>https://boston.craigslist.org/gbs/ctd/d/framingham-2012-honda-civic-lx/7027713801.html</td>\n",
       "    </tr>\n",
       "    <tr>\n",
       "      <th>12</th>\n",
       "      <td>2012</td>\n",
       "      <td>7995</td>\n",
       "      <td>94937.0</td>\n",
       "      <td>nm</td>\n",
       "      <td>https://boston.craigslist.org/gbs/ctd/d/framingham-2012-honda-civic-ex/7027619792.html</td>\n",
       "    </tr>\n",
       "    <tr>\n",
       "      <th>13</th>\n",
       "      <td>2012</td>\n",
       "      <td>6850</td>\n",
       "      <td>141000.0</td>\n",
       "      <td>blue</td>\n",
       "      <td>https://boston.craigslist.org/gbs/ctd/d/londonderry-2012-honda-civic-sdn-4dr/7027303210.html</td>\n",
       "    </tr>\n",
       "    <tr>\n",
       "      <th>14</th>\n",
       "      <td>2015</td>\n",
       "      <td>11500</td>\n",
       "      <td>49073.0</td>\n",
       "      <td>nm</td>\n",
       "      <td>https://boston.craigslist.org/gbs/cto/d/watertown-2015-honda-civic/7024072889.html</td>\n",
       "    </tr>\n",
       "    <tr>\n",
       "      <th>15</th>\n",
       "      <td>2016</td>\n",
       "      <td>14495</td>\n",
       "      <td>29473.0</td>\n",
       "      <td>silver</td>\n",
       "      <td>https://boston.craigslist.org/gbs/ctd/d/malden-2016-honda-civic-lx/7023790102.html</td>\n",
       "    </tr>\n",
       "    <tr>\n",
       "      <th>16</th>\n",
       "      <td>2016</td>\n",
       "      <td>13999</td>\n",
       "      <td>45428.0</td>\n",
       "      <td>silver</td>\n",
       "      <td>https://boston.craigslist.org/gbs/ctd/d/west-newton-2016-honda-civic-ex-sedan/7023177740.html</td>\n",
       "    </tr>\n",
       "    <tr>\n",
       "      <th>18</th>\n",
       "      <td>2016</td>\n",
       "      <td>11465</td>\n",
       "      <td>88629.0</td>\n",
       "      <td>grey</td>\n",
       "      <td>https://boston.craigslist.org/nos/ctd/d/salem-2016-honda-civic-ex-sedan-cvt/7037361384.html</td>\n",
       "    </tr>\n",
       "    <tr>\n",
       "      <th>19</th>\n",
       "      <td>2017</td>\n",
       "      <td>13765</td>\n",
       "      <td>30598.0</td>\n",
       "      <td>grey</td>\n",
       "      <td>https://boston.craigslist.org/nos/ctd/d/salem-2017-honda-civic-lx-sedan-cvt/7037361408.html</td>\n",
       "    </tr>\n",
       "    <tr>\n",
       "      <th>21</th>\n",
       "      <td>2012</td>\n",
       "      <td>5495</td>\n",
       "      <td>173159.0</td>\n",
       "      <td>silver</td>\n",
       "      <td>https://boston.craigslist.org/nwb/ctd/d/methuen-2012-honda-civic-lx-sedan-5/7035931132.html</td>\n",
       "    </tr>\n",
       "    <tr>\n",
       "      <th>22</th>\n",
       "      <td>2012</td>\n",
       "      <td>9995</td>\n",
       "      <td>64746.0</td>\n",
       "      <td>nm</td>\n",
       "      <td>https://boston.craigslist.org/sob/ctd/d/taunton-2012-honda-civic-ex-w-navi-4dr/7034118474.html</td>\n",
       "    </tr>\n",
       "    <tr>\n",
       "      <th>23</th>\n",
       "      <td>2014</td>\n",
       "      <td>13485</td>\n",
       "      <td>41588.0</td>\n",
       "      <td>nm</td>\n",
       "      <td>https://boston.craigslist.org/nwb/ctd/d/dracut-2014-honda-civic-coupe-2dr-cvt-ex/7033021319.html</td>\n",
       "    </tr>\n",
       "    <tr>\n",
       "      <th>24</th>\n",
       "      <td>2012</td>\n",
       "      <td>6995</td>\n",
       "      <td>104067.0</td>\n",
       "      <td>nm</td>\n",
       "      <td>https://boston.craigslist.org/bmw/ctd/d/worcester-2012-honda-civic-hybrid/7029353457.html</td>\n",
       "    </tr>\n",
       "  </tbody>\n",
       "</table>\n",
       "</div>"
      ],
      "text/plain": [
       "    year  price   mileage   color  \\\n",
       "0   2019  14995  8500.0    blue     \n",
       "2   2017  13200  35457.0   grey     \n",
       "3   2016  12500  38417.0   grey     \n",
       "4   2012  6000   153112.0  nm       \n",
       "5   2012  6500   147244.0  nm       \n",
       "6   2012  6975   95324.0   nm       \n",
       "7   2014  10975  70900.0   nm       \n",
       "8   2017  12995  17600.0   grey     \n",
       "9   2016  13995  29473.0   silver   \n",
       "10  2015  14900  33163.0   silver   \n",
       "11  2012  7495   89175.0   nm       \n",
       "12  2012  7995   94937.0   nm       \n",
       "13  2012  6850   141000.0  blue     \n",
       "14  2015  11500  49073.0   nm       \n",
       "15  2016  14495  29473.0   silver   \n",
       "16  2016  13999  45428.0   silver   \n",
       "18  2016  11465  88629.0   grey     \n",
       "19  2017  13765  30598.0   grey     \n",
       "21  2012  5495   173159.0  silver   \n",
       "22  2012  9995   64746.0   nm       \n",
       "23  2014  13485  41588.0   nm       \n",
       "24  2012  6995   104067.0  nm       \n",
       "\n",
       "                                                                                                 URL  \n",
       "0   https://boston.craigslist.org/gbs/ctd/d/new-town-2019-honda-civic-lx-8500-miles/7039560108.html   \n",
       "2   https://boston.craigslist.org/gbs/ctd/d/west-newton-2017-honda-civic-lx-sedan/7038754991.html     \n",
       "3   https://boston.craigslist.org/gbs/ctd/d/west-newton-2016-honda-civic-lx-sedan/7038754066.html     \n",
       "4   https://boston.craigslist.org/gbs/cto/d/everett-honda-civic-exl/7037586597.html                   \n",
       "5   https://boston.craigslist.org/gbs/ctd/d/attleboro-2012-honda-civic-lx-4dr-sedan/7037116420.html   \n",
       "6   https://boston.craigslist.org/gbs/ctd/d/south-walpole-2012-honda-civic-lx-4dr/7036750273.html     \n",
       "7   https://boston.craigslist.org/gbs/ctd/d/south-walpole-2014-honda-civic-ex-2dr/7036747832.html     \n",
       "8   https://boston.craigslist.org/gbs/ctd/d/new-town-2017-honda-civic-lx-miles-auto/7033556783.html   \n",
       "9   https://boston.craigslist.org/gbs/ctd/d/malden-2016-honda-civic-lx/7033465754.html                \n",
       "10  https://boston.craigslist.org/gbs/ctd/d/auburndale-2015-honda-civic-lx-coupe-2d/7031336146.html   \n",
       "11  https://boston.craigslist.org/gbs/ctd/d/framingham-2012-honda-civic-lx/7027713801.html            \n",
       "12  https://boston.craigslist.org/gbs/ctd/d/framingham-2012-honda-civic-ex/7027619792.html            \n",
       "13  https://boston.craigslist.org/gbs/ctd/d/londonderry-2012-honda-civic-sdn-4dr/7027303210.html      \n",
       "14  https://boston.craigslist.org/gbs/cto/d/watertown-2015-honda-civic/7024072889.html                \n",
       "15  https://boston.craigslist.org/gbs/ctd/d/malden-2016-honda-civic-lx/7023790102.html                \n",
       "16  https://boston.craigslist.org/gbs/ctd/d/west-newton-2016-honda-civic-ex-sedan/7023177740.html     \n",
       "18  https://boston.craigslist.org/nos/ctd/d/salem-2016-honda-civic-ex-sedan-cvt/7037361384.html       \n",
       "19  https://boston.craigslist.org/nos/ctd/d/salem-2017-honda-civic-lx-sedan-cvt/7037361408.html       \n",
       "21  https://boston.craigslist.org/nwb/ctd/d/methuen-2012-honda-civic-lx-sedan-5/7035931132.html       \n",
       "22  https://boston.craigslist.org/sob/ctd/d/taunton-2012-honda-civic-ex-w-navi-4dr/7034118474.html    \n",
       "23  https://boston.craigslist.org/nwb/ctd/d/dracut-2014-honda-civic-coupe-2dr-cvt-ex/7033021319.html  \n",
       "24  https://boston.craigslist.org/bmw/ctd/d/worcester-2012-honda-civic-hybrid/7029353457.html         "
      ]
     },
     "execution_count": 17,
     "metadata": {},
     "output_type": "execute_result"
    }
   ],
   "source": [
    "cars"
   ]
  },
  {
   "cell_type": "code",
   "execution_count": 18,
   "metadata": {},
   "outputs": [
    {
     "data": {
      "text/plain": [
       "nm        10\n",
       "silver    5 \n",
       "grey      5 \n",
       "blue      2 \n",
       "Name: color, dtype: int64"
      ]
     },
     "execution_count": 18,
     "metadata": {},
     "output_type": "execute_result"
    }
   ],
   "source": [
    "cars.color.value_counts()"
   ]
  },
  {
   "cell_type": "code",
   "execution_count": 19,
   "metadata": {},
   "outputs": [],
   "source": [
    "pd.DataFrame.to_csv(cars,'cars_clean.csv', index=False)"
   ]
  },
  {
   "cell_type": "code",
   "execution_count": null,
   "metadata": {},
   "outputs": [],
   "source": []
  }
 ],
 "metadata": {
  "kernelspec": {
   "display_name": "Python 3",
   "language": "python",
   "name": "python3"
  },
  "language_info": {
   "codemirror_mode": {
    "name": "ipython",
    "version": 3
   },
   "file_extension": ".py",
   "mimetype": "text/x-python",
   "name": "python",
   "nbconvert_exporter": "python",
   "pygments_lexer": "ipython3",
   "version": "3.7.3"
  }
 },
 "nbformat": 4,
 "nbformat_minor": 2
}
